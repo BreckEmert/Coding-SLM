{
 "cells": [
  {
   "cell_type": "code",
   "execution_count": null,
   "id": "3a100ce2-64a9-45ac-b5da-eb08fc519678",
   "metadata": {},
   "outputs": [],
   "source": [
    "import tensorboard\n",
    "import matplotlib.pyplot as plt\n",
    "self.writer = tf.summary.create_file_writer(loader_log_dir)\n",
    "\n",
    "def log_vocabulary(self):\n",
    "        with self.writer.as_default():\n",
    "            for word, index in self.problem_tokenizer.word_index.items():\n",
    "                tf.summary.text(name=\"Problem Vocabulary\", data=f\"{word}: {index}\", step=0)\n",
    "\n",
    "            for word, index in self.solution_tokenizer.word_index.items():\n",
    "                tf.summary.text(name=\"Solution Vocabulary\", data=f\"{word}: {index}\", step=0)\n",
    "\n",
    "            self.writer.flush()"
   ]
  },
  {
   "cell_type": "code",
   "execution_count": null,
   "id": "f5ee43ca-b479-4fe0-91b0-8498bd797bd9",
   "metadata": {},
   "outputs": [],
   "source": [
    "def _log_dataset_samples(self, problems, decoder_inputs, targets):\n",
    "        with self.writer.as_default():\n",
    "            for i, (problem, decoder_input, target) in enumerate(zip(problems, decoder_inputs, targets)):\n",
    "                if i >= 5: # Log 5 samples\n",
    "                    break\n",
    "                \n",
    "                # Convert padded sequences back to text\n",
    "                problem_text = self.problem_tokenizer.sequences_to_texts([problem])\n",
    "                decoder_input_text = self.solution_tokenizer.sequences_to_texts([decoder_input])\n",
    "                target_text = self.solution_tokenizer.sequences_to_texts([target])\n",
    "\n",
    "                # Truncate texts\n",
    "                #max_display_length = 1024\n",
    "                #problem_text = (problem_text[:max_display_length] + '...') if len(problem_text) > max_display_length else problem_text\n",
    "                #solution_text = (solution_text[:max_display_length] + '...') if len(solution_text) > max_display_length else solution_text\n",
    "\n",
    "                # Log to TensorBoard\n",
    "                tf.summary.text(name=f\"problem_{i}\", data=problem_text, step=0)\n",
    "                tf.summary.text(name=f\"decoder_input_{i}\", data=decoder_input_text, step=0)\n",
    "                tf.summary.text(name=f\"target_{i}\", data=target_text, step=0)\n",
    "\n",
    "            self.writer.flush()"
   ]
  }
 ],
 "metadata": {
  "kernelspec": {
   "display_name": "Python 3 (ipykernel)",
   "language": "python",
   "name": "python3"
  },
  "language_info": {
   "codemirror_mode": {
    "name": "ipython",
    "version": 3
   },
   "file_extension": ".py",
   "mimetype": "text/x-python",
   "name": "python",
   "nbconvert_exporter": "python",
   "pygments_lexer": "ipython3",
   "version": "3.10.13"
  }
 },
 "nbformat": 4,
 "nbformat_minor": 5
}
