{
 "cells": [
  {
   "cell_type": "code",
   "execution_count": null,
   "id": "e88f1cad-a7e2-4ea0-be0f-6419ca1f5ffc",
   "metadata": {},
   "outputs": [],
   "source": [
    "from tensorflow.keras.preprocessing.text import Tokenizer\n",
    "import tokenize\n",
    "\n",
    "self.problem_tokenizer = Tokenizer(filters='')\n",
    "self.solution_tokenizer = Tokenizer(filters='', oov_token='UNK')\n",
    "    \n",
    "    # Add SOS and EOS tokens\n",
    "        decoder_inputs = [[\"XXSOS\"] + s for s in solutions]\n",
    "        targets = [s + [\"XXEOS\"] for s in solutions]\n",
    "        \n",
    "        # Fit Keras tokenizer\n",
    "        self.problem_tokenizer.fit_on_texts(problems)\n",
    "        self.solution_tokenizer.fit_on_texts(decoder_inputs + targets) # Both at once\n",
    "        \n",
    "        # Tokenize\n",
    "        problems = self.problem_tokenizer.texts_to_sequences(problems)\n",
    "        decoder_inputs = self.solution_tokenizer.texts_to_sequences(decoder_inputs)\n",
    "        targets = self.solution_tokenizer.texts_to_sequences(targets)\n",
    "        \n",
    "        # Pad to same length\n",
    "        problems = pad_sequences(problems, padding='post', maxlen=self.max_length_input)\n",
    "        decoder_inputs = pad_sequences(decoder_inputs, padding='post', maxlen=self.max_length_output)\n",
    "        targets = pad_sequences(targets, padding='post', maxlen=self.max_length_output)\n",
    "        \n",
    "        return problems, decoder_inputs, targets"
   ]
  },
  {
   "cell_type": "code",
   "execution_count": null,
   "id": "418ba38e-1974-4092-9bea-200bbcbe10a5",
   "metadata": {},
   "outputs": [],
   "source": [
    "\n",
    "    problem_vocab_size = len(loader.problem_tokenizer.word_index) + 1\n",
    "    solution_vocab_size = len(loader.solution_tokenizer.word_index) + 1\n",
    "    \n",
    "    These can be part of the tokenizer maybe?"
   ]
  }
 ],
 "metadata": {
  "kernelspec": {
   "display_name": "Python 3 (ipykernel)",
   "language": "python",
   "name": "python3"
  },
  "language_info": {
   "codemirror_mode": {
    "name": "ipython",
    "version": 3
   },
   "file_extension": ".py",
   "mimetype": "text/x-python",
   "name": "python",
   "nbconvert_exporter": "python",
   "pygments_lexer": "ipython3",
   "version": "3.10.13"
  }
 },
 "nbformat": 4,
 "nbformat_minor": 5
}
