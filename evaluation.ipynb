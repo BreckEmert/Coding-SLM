{
 "cells": [
  {
   "cell_type": "code",
   "execution_count": 2,
   "id": "3a100ce2-64a9-45ac-b5da-eb08fc519678",
   "metadata": {
    "tags": []
   },
   "outputs": [
    {
     "name": "stderr",
     "output_type": "stream",
     "text": [
      "2024-02-08 03:11:37.071144: I tensorflow/core/util/port.cc:111] oneDNN custom operations are on. You may see slightly different numerical results due to floating-point round-off errors from different computation orders. To turn them off, set the environment variable `TF_ENABLE_ONEDNN_OPTS=0`.\n",
      "2024-02-08 03:11:37.113323: E tensorflow/compiler/xla/stream_executor/cuda/cuda_dnn.cc:9342] Unable to register cuDNN factory: Attempting to register factory for plugin cuDNN when one has already been registered\n",
      "2024-02-08 03:11:37.113343: E tensorflow/compiler/xla/stream_executor/cuda/cuda_fft.cc:609] Unable to register cuFFT factory: Attempting to register factory for plugin cuFFT when one has already been registered\n",
      "2024-02-08 03:11:37.113417: E tensorflow/compiler/xla/stream_executor/cuda/cuda_blas.cc:1518] Unable to register cuBLAS factory: Attempting to register factory for plugin cuBLAS when one has already been registered\n",
      "2024-02-08 03:11:37.123413: I tensorflow/core/platform/cpu_feature_guard.cc:182] This TensorFlow binary is optimized to use available CPU instructions in performance-critical operations.\n",
      "To enable the following instructions: AVX2 AVX512F AVX512_VNNI AVX512_BF16 FMA, in other operations, rebuild TensorFlow with the appropriate compiler flags.\n"
     ]
    },
    {
     "ename": "NameError",
     "evalue": "name 'loader_log_dir' is not defined",
     "output_type": "error",
     "traceback": [
      "\u001b[0;31m---------------------------------------------------------------------------\u001b[0m",
      "\u001b[0;31mNameError\u001b[0m                                 Traceback (most recent call last)",
      "Cell \u001b[0;32mIn[2], line 4\u001b[0m\n\u001b[1;32m      2\u001b[0m \u001b[38;5;28;01mimport\u001b[39;00m \u001b[38;5;21;01mtensorboard\u001b[39;00m\n\u001b[1;32m      3\u001b[0m \u001b[38;5;28;01mimport\u001b[39;00m \u001b[38;5;21;01mmatplotlib\u001b[39;00m\u001b[38;5;21;01m.\u001b[39;00m\u001b[38;5;21;01mpyplot\u001b[39;00m \u001b[38;5;28;01mas\u001b[39;00m \u001b[38;5;21;01mplt\u001b[39;00m\n\u001b[0;32m----> 4\u001b[0m \u001b[38;5;28mself\u001b[39m\u001b[38;5;241m.\u001b[39mwriter \u001b[38;5;241m=\u001b[39m tf\u001b[38;5;241m.\u001b[39msummary\u001b[38;5;241m.\u001b[39mcreate_file_writer(\u001b[43mloader_log_dir\u001b[49m)\n\u001b[1;32m      6\u001b[0m \u001b[38;5;28;01mdef\u001b[39;00m \u001b[38;5;21mlog_vocabulary\u001b[39m(\u001b[38;5;28mself\u001b[39m):\n\u001b[1;32m      7\u001b[0m         \u001b[38;5;28;01mwith\u001b[39;00m \u001b[38;5;28mself\u001b[39m\u001b[38;5;241m.\u001b[39mwriter\u001b[38;5;241m.\u001b[39mas_default():\n",
      "\u001b[0;31mNameError\u001b[0m: name 'loader_log_dir' is not defined"
     ]
    }
   ],
   "source": [
    "import tensorflow as tf\n",
    "import tensorboard\n",
    "import matplotlib.pyplot as plt\n",
    "self.writer = tf.summary.create_file_writer(loader_log_dir)\n",
    "\n",
    "def log_vocabulary(self):\n",
    "        with self.writer.as_default():\n",
    "            for word, index in self.problem_tokenizer.word_index.items():\n",
    "                tf.summary.text(name=\"Problem Vocabulary\", data=f\"{word}: {index}\", step=0)\n",
    "\n",
    "            for word, index in self.solution_tokenizer.word_index.items():\n",
    "                tf.summary.text(name=\"Solution Vocabulary\", data=f\"{word}: {index}\", step=0)\n",
    "\n",
    "            self.writer.flush()"
   ]
  },
  {
   "cell_type": "code",
   "execution_count": null,
   "id": "f5ee43ca-b479-4fe0-91b0-8498bd797bd9",
   "metadata": {},
   "outputs": [],
   "source": [
    "def _log_dataset_samples(self, problems, decoder_inputs, targets):\n",
    "        with self.writer.as_default():\n",
    "            for i, (problem, decoder_input, target) in enumerate(zip(problems, decoder_inputs, targets)):\n",
    "                if i >= 5: # Log 5 samples\n",
    "                    break\n",
    "                \n",
    "                # Convert padded sequences back to text\n",
    "                problem_text = self.problem_tokenizer.sequences_to_texts([problem])\n",
    "                decoder_input_text = self.solution_tokenizer.sequences_to_texts([decoder_input])\n",
    "                target_text = self.solution_tokenizer.sequences_to_texts([target])\n",
    "\n",
    "                # Truncate texts\n",
    "                #max_display_length = 1024\n",
    "                #problem_text = (problem_text[:max_display_length] + '...') if len(problem_text) > max_display_length else problem_text\n",
    "                #solution_text = (solution_text[:max_display_length] + '...') if len(solution_text) > max_display_length else solution_text\n",
    "\n",
    "                # Log to TensorBoard\n",
    "                tf.summary.text(name=f\"problem_{i}\", data=problem_text, step=0)\n",
    "                tf.summary.text(name=f\"decoder_input_{i}\", data=decoder_input_text, step=0)\n",
    "                tf.summary.text(name=f\"target_{i}\", data=target_text, step=0)\n",
    "\n",
    "            self.writer.flush()"
   ]
  },
  {
   "cell_type": "code",
   "execution_count": 3,
   "id": "1e8f3bc8-bb0e-4ffc-9f7d-2d6eaa0ae048",
   "metadata": {
    "tags": []
   },
   "outputs": [
    {
     "name": "stderr",
     "output_type": "stream",
     "text": [
      "2024-02-08 03:11:45.434094: I tensorflow/compiler/xla/stream_executor/cuda/cuda_gpu_executor.cc:880] could not open file to read NUMA node: /sys/bus/pci/devices/0000:01:00.0/numa_node\n",
      "Your kernel may have been built without NUMA support.\n",
      "2024-02-08 03:11:45.453784: I tensorflow/compiler/xla/stream_executor/cuda/cuda_gpu_executor.cc:880] could not open file to read NUMA node: /sys/bus/pci/devices/0000:01:00.0/numa_node\n",
      "Your kernel may have been built without NUMA support.\n",
      "2024-02-08 03:11:45.453830: I tensorflow/compiler/xla/stream_executor/cuda/cuda_gpu_executor.cc:880] could not open file to read NUMA node: /sys/bus/pci/devices/0000:01:00.0/numa_node\n",
      "Your kernel may have been built without NUMA support.\n",
      "2024-02-08 03:11:45.462164: I tensorflow/compiler/xla/stream_executor/cuda/cuda_gpu_executor.cc:880] could not open file to read NUMA node: /sys/bus/pci/devices/0000:01:00.0/numa_node\n",
      "Your kernel may have been built without NUMA support.\n",
      "2024-02-08 03:11:45.462197: I tensorflow/compiler/xla/stream_executor/cuda/cuda_gpu_executor.cc:880] could not open file to read NUMA node: /sys/bus/pci/devices/0000:01:00.0/numa_node\n",
      "Your kernel may have been built without NUMA support.\n",
      "2024-02-08 03:11:45.462216: I tensorflow/compiler/xla/stream_executor/cuda/cuda_gpu_executor.cc:880] could not open file to read NUMA node: /sys/bus/pci/devices/0000:01:00.0/numa_node\n",
      "Your kernel may have been built without NUMA support.\n",
      "2024-02-08 03:11:45.618761: I tensorflow/compiler/xla/stream_executor/cuda/cuda_gpu_executor.cc:880] could not open file to read NUMA node: /sys/bus/pci/devices/0000:01:00.0/numa_node\n",
      "Your kernel may have been built without NUMA support.\n",
      "2024-02-08 03:11:45.618829: I tensorflow/compiler/xla/stream_executor/cuda/cuda_gpu_executor.cc:880] could not open file to read NUMA node: /sys/bus/pci/devices/0000:01:00.0/numa_node\n",
      "Your kernel may have been built without NUMA support.\n",
      "2024-02-08 03:11:45.618840: I tensorflow/core/common_runtime/gpu/gpu_device.cc:1977] Could not identify NUMA node of platform GPU id 0, defaulting to 0.  Your kernel may not have been built with NUMA support.\n",
      "2024-02-08 03:11:45.618870: I tensorflow/compiler/xla/stream_executor/cuda/cuda_gpu_executor.cc:880] could not open file to read NUMA node: /sys/bus/pci/devices/0000:01:00.0/numa_node\n",
      "Your kernel may have been built without NUMA support.\n",
      "2024-02-08 03:11:45.618927: I tensorflow/core/common_runtime/gpu/gpu_device.cc:1886] Created device /job:localhost/replica:0/task:0/device:GPU:0 with 13512 MB memory:  -> device: 0, name: NVIDIA GeForce RTX 4080, pci bus id: 0000:01:00.0, compute capability: 8.9\n"
     ]
    },
    {
     "ename": "NameError",
     "evalue": "name 'loader' is not defined",
     "output_type": "error",
     "traceback": [
      "\u001b[0;31m---------------------------------------------------------------------------\u001b[0m",
      "\u001b[0;31mNameError\u001b[0m                                 Traceback (most recent call last)",
      "Cell \u001b[0;32mIn[3], line 97\u001b[0m\n\u001b[1;32m     94\u001b[0m model \u001b[38;5;241m=\u001b[39m tf\u001b[38;5;241m.\u001b[39mkeras\u001b[38;5;241m.\u001b[39mmodels\u001b[38;5;241m.\u001b[39mload_model(\u001b[38;5;124m'\u001b[39m\u001b[38;5;124m/workspace\u001b[39m\u001b[38;5;124m'\u001b[39m)\n\u001b[1;32m     96\u001b[0m \u001b[38;5;66;03m# Uncomment what you want to run\u001b[39;00m\n\u001b[0;32m---> 97\u001b[0m evaluator \u001b[38;5;241m=\u001b[39m Evaluator(model, \u001b[43mloader\u001b[49m)\n\u001b[1;32m     98\u001b[0m \u001b[38;5;66;03m#evaluator.evaluate('loss', history)\u001b[39;00m\n\u001b[1;32m     99\u001b[0m \u001b[38;5;66;03m#evaluator.evaluate('token_prob', token_index=10, n_samples=3)\u001b[39;00m\n\u001b[1;32m    100\u001b[0m evaluator\u001b[38;5;241m.\u001b[39mevaluate(\u001b[38;5;124m'\u001b[39m\u001b[38;5;124mtraining_sample_pred\u001b[39m\u001b[38;5;124m'\u001b[39m, n_samples\u001b[38;5;241m=\u001b[39m\u001b[38;5;241m3\u001b[39m)\n",
      "\u001b[0;31mNameError\u001b[0m: name 'loader' is not defined"
     ]
    }
   ],
   "source": [
    "class Evaluator:\n",
    "    def __init__(self, model, loader):\n",
    "        self.model = model\n",
    "        self.loader = loader\n",
    "\n",
    "    def plot_loss(self, history):\n",
    "        plt.figure(figsize=(10, 6))\n",
    "        plt.plot(history.history['loss'])\n",
    "        plt.title('Loss Curve')\n",
    "        plt.xlabel('Epochs')\n",
    "        plt.ylabel('Loss')\n",
    "        plt.grid(True)\n",
    "        plt.show()\n",
    "\n",
    "    def plot_token_probabilities(self, token_index, n_samples=1):\n",
    "        # Take one batch from the dataset\n",
    "        for (encoder_input, decoder_input), _ in self.loader.dataset.take(1):\n",
    "            # Slice the batch down to n_samples\n",
    "            encoder_input = encoder_input[:n_samples]\n",
    "            decoder_input = decoder_input[:n_samples]\n",
    "\n",
    "            # Predict on the sliced inputs\n",
    "            predictions = self.model.predict([encoder_input, decoder_input])\n",
    "\n",
    "            for sample_idx in range(n_samples):\n",
    "                # For each sample, extract token logits and convert to probabilities\n",
    "                token_logits = predictions[sample_idx, token_index, :]\n",
    "                token_probabilities = tf.nn.softmax(token_logits).numpy()\n",
    "                sorted_indices = np.argsort(token_probabilities)[::-1]\n",
    "                sorted_probabilities = token_probabilities[sorted_indices]\n",
    "\n",
    "                # Plotting\n",
    "                plt.figure(figsize=(20, 5))\n",
    "                plt.bar(range(len(sorted_probabilities)), sorted_probabilities)\n",
    "                plt.xlabel('Word Indices (sorted by probability)')\n",
    "                plt.ylabel('Probability')\n",
    "                plt.title(f'Word Prediction Probabilities for Token {token_index} in Sample {sample_idx+1}')\n",
    "                plt.show()\n",
    "\n",
    "    def generate_training_predictions(self, n_samples=1):\n",
    "        # Take one batch from the dataset\n",
    "        for (encoder_inputs, decoder_inputs), _ in self.loader.dataset.take(1):\n",
    "            # Slice the batch down to n_samples\n",
    "            encoder_inputs = encoder_inputs[:n_samples]\n",
    "            decoder_inputs = decoder_inputs[:n_samples]\n",
    "\n",
    "            # Predict on the sliced inputs\n",
    "            predictions = self.model.predict([encoder_inputs, decoder_inputs])\n",
    "            predicted_sequences = np.argmax(predictions, axis=-1)\n",
    "\n",
    "            # Convert sequences to text\n",
    "            encoder_inputs = encoder_inputs = encoder_inputs.numpy() # Can factor this later\n",
    "            input_texts = self.loader.problem_tokenizer.sequences_to_texts(encoder_inputs)\n",
    "            predicted_texts = self.loader.solution_tokenizer.sequences_to_texts(predicted_sequences)\n",
    "            \n",
    "            # Print each prediction in the slice\n",
    "            for i, predicted_text in enumerate(predicted_texts):\n",
    "                print(f\"Sample {i + 1}:\") \n",
    "                print(\"Input sequence [:250]:\", input_texts[i][:250])\n",
    "                print(\"Predicted sequence:\", predicted_sequences[i])\n",
    "                print(\"Predicted text:\", predicted_text, \"\\n\")\n",
    "    \n",
    "    def generate_manual_predictions(self, input_text):\n",
    "        # Tokenize the input string\n",
    "        input_seq = self.loader.problem_tokenizer.texts_to_sequences([input_text])\n",
    "        input_padded = tf.keras.preprocessing.sequence.pad_sequences(input_seq, maxlen=self.loader.max_length_input, padding='post')\n",
    "\n",
    "        # Prepare the decoder input\n",
    "        start_token_index = self.loader.solution_tokenizer.word_index.get('[START]', 1)  # Fallback to 1 if not found\n",
    "        decoder_input = np.array([[start_token_index]])\n",
    "        \n",
    "        # Generate and interpret the prediction\n",
    "        predictions = self.model.predict([input_padded, decoder_input])\n",
    "        predicted_sequence = np.argmax(predictions, axis=-1)[0]\n",
    "        predicted_text = self.loader.solution_tokenizer.sequences_to_texts([predicted_sequence])\n",
    "        \n",
    "        # Print the output\n",
    "        print(\"Input text:\", input_text)\n",
    "        print(\"Predicted text:\", predicted_text[0])\n",
    "\n",
    "    def evaluate(self, command, *args, **kwargs):\n",
    "        if command == 'loss':\n",
    "            self.plot_loss(*args, **kwargs)\n",
    "        elif command == 'token_prob':\n",
    "            self.plot_token_probabilities(*args, **kwargs)\n",
    "        elif command == 'training_sample_pred':\n",
    "            self.generate_training_predictions(*args, **kwargs)\n",
    "        elif command == 'manual_sample_pred':\n",
    "            self.generate_manual_predictions(*args, **kwargs)\n",
    "        else:\n",
    "            print(f\"Unknown command: {command}\")\n",
    "\n",
    "# Load the model if it's not\n",
    "model = tf.keras.models.load_model('/workspace')\n",
    "\n",
    "# Uncomment what you want to run\n",
    "evaluator = Evaluator(model, loader)\n",
    "#evaluator.evaluate('loss', history)\n",
    "#evaluator.evaluate('token_prob', token_index=10, n_samples=3)\n",
    "evaluator.evaluate('training_sample_pred', n_samples=3)\n",
    "\n",
    "input_text = \"XXSTATEMENT Susie like squares.  When playing with one, she wants to know how many sides it has.  For each side of the square, print its length.  XXINPUT An object s, which is an integer representing the length of a side l.  XXOUTPUT Four copies of the length s\"\n",
    "evaluator.evaluate('manual_sample_pred', input_text)\n"
   ]
  },
  {
   "cell_type": "code",
   "execution_count": null,
   "id": "baf77cc0-cb04-46b5-8572-000154289d58",
   "metadata": {},
   "outputs": [],
   "source": [
    "%load_ext tensorboard\n",
    "%tensorboard --logdir logs --host localhost --port 8088"
   ]
  }
 ],
 "metadata": {
  "kernelspec": {
   "display_name": "Python 3 (ipykernel)",
   "language": "python",
   "name": "python3"
  },
  "language_info": {
   "codemirror_mode": {
    "name": "ipython",
    "version": 3
   },
   "file_extension": ".py",
   "mimetype": "text/x-python",
   "name": "python",
   "nbconvert_exporter": "python",
   "pygments_lexer": "ipython3",
   "version": "3.10.13"
  }
 },
 "nbformat": 4,
 "nbformat_minor": 5
}
