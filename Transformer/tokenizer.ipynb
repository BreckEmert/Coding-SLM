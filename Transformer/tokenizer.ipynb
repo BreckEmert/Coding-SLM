{
 "cells": [
  {
   "cell_type": "code",
   "execution_count": null,
   "id": "e88f1cad-a7e2-4ea0-be0f-6419ca1f5ffc",
   "metadata": {},
   "outputs": [],
   "source": [
    "from tensorflow.keras.preprocessing.text import Tokenizer\n",
    "from tensorflow.keras.preprocessing.sequence import pad_sequences\n",
    "import tokenize"
   ]
  },
  {
   "cell_type": "code",
   "execution_count": null,
   "id": "418ba38e-1974-4092-9bea-200bbcbe10a5",
   "metadata": {},
   "outputs": [],
   "source": [
    "class Tokenizers:\n",
    "    def __init__(self, max_length_input, max_length_output):\n",
    "        self.problem_tokenizer = Tokenizer(filters='', oov_token='UNK')\n",
    "        self.max_length_input = 50\n",
    "        self.max_length_output = 530\n",
    "    \n",
    "    def tokenize_input(problems):\n",
    "        # Fit Keras tokenizer\n",
    "        self.problem_tokenizer.fit_on_texts(problems)\n",
    "        \n",
    "        # Store tokenizer information\n",
    "        with open('problem_tokenizer.pkl', 'wb') as f:\n",
    "            pickle.dump(problem_tokenizer, f)\n",
    "        with open('solution_tokenizer.pkl', 'wb') as f:\n",
    "            pickle.dump(solution_tokenizer, f)\n",
    "        \n",
    "        # Tokenize with Keras tokenizer\n",
    "        problems = self.problem_tokenizer.texts_to_sequences(problems)\n",
    "        \n",
    "        # Pad to same length\n",
    "        problems = pad_sequences(problems, padding='post', maxlen=self.max_length_input)\n",
    "        \n",
    "        return problems\n",
    "    \n",
    "    def tokenize_output(solutions):\n",
    "        # Tokenize with Python tokenizer\n",
    "        tokenized_solutions = []\n",
    "        for solution in solutions:\n",
    "            python_tokens = tokenize.generate_tokens(solution.readline).string\n",
    "            tokenized_solutions.append(python_tokens)\n",
    "        \n",
    "        # Add SOS and EOS tokens\n",
    "        decoder_inputs = [[\"XXSOS\"] + s for s in tokenized_solutions]\n",
    "        targets = [s + [\"XXEOS\"] for s in tokenized_solutions]\n",
    "        \n",
    "        # Pad to same length\n",
    "        decoder_inputs = pad_sequences(decoder_inputs, padding='post', maxlen=self.max_length_output)\n",
    "        targets = pad_sequences(targets, padding='post', maxlen=self.max_length_output)\n",
    "        \n",
    "        return decoder_inputs, targets"
   ]
  },
  {
   "cell_type": "code",
   "execution_count": null,
   "id": "45be86fb-d242-475a-806e-f09152eecd6a",
   "metadata": {},
   "outputs": [],
   "source": [
    "print(Tokenizers.tokenize_output("
   ]
  }
 ],
 "metadata": {
  "kernelspec": {
   "display_name": "Python 3 (ipykernel)",
   "language": "python",
   "name": "python3"
  },
  "language_info": {
   "codemirror_mode": {
    "name": "ipython",
    "version": 3
   },
   "file_extension": ".py",
   "mimetype": "text/x-python",
   "name": "python",
   "nbconvert_exporter": "python",
   "pygments_lexer": "ipython3",
   "version": "3.10.13"
  }
 },
 "nbformat": 4,
 "nbformat_minor": 5
}
